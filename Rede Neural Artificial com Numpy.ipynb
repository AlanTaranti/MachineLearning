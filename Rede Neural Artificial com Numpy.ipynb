{
 "cells": [
  {
   "cell_type": "markdown",
   "metadata": {},
   "source": [
    "# Rede Neural Artificial com Numpy"
   ]
  },
  {
   "cell_type": "markdown",
   "metadata": {},
   "source": [
    "Este notebook demonstra como implementar uma rede neural usando apenas o numpy."
   ]
  },
  {
   "cell_type": "markdown",
   "metadata": {},
   "source": [
    "## Importar Numpy"
   ]
  },
  {
   "cell_type": "code",
   "execution_count": 1,
   "metadata": {},
   "outputs": [],
   "source": [
    "import numpy as np\n",
    "from numpy.random import randn"
   ]
  },
  {
   "cell_type": "markdown",
   "metadata": {},
   "source": [
    "## Definir os dados de entrada"
   ]
  },
  {
   "cell_type": "code",
   "execution_count": 2,
   "metadata": {},
   "outputs": [],
   "source": [
    "# Quantidade de exemplos no conjunto de dados\n",
    "exemplos = 100\n",
    "\n",
    "# Quantidade de atributos\n",
    "atributos = 1000\n",
    "\n",
    "# Quantidade de classes\n",
    "classes = 10\n",
    "\n",
    "# Definir o dataset (Dados aleatórios)\n",
    "X_train, Y_train = randn(exemplos, atributos), randn(exemplos, classes)"
   ]
  },
  {
   "cell_type": "markdown",
   "metadata": {},
   "source": [
    "## Definir a configuração da RNA (Rede Neural Artificial)"
   ]
  },
  {
   "cell_type": "code",
   "execution_count": 3,
   "metadata": {},
   "outputs": [],
   "source": [
    "# A dimensão da camada entrada possui tamanho fixo, é a quantidade de atributos no conjunto de dados\n",
    "D_entrada = atributos\n",
    "\n",
    "# A dimensão e a quantidade de camadas ocultas possui tamanho variavel\n",
    "# Para nosso exemplo, utilizaremos uma única camada oculta que possui tamanho 100\n",
    "D_oculta = 100\n",
    "\n",
    "# A dimensão da camada de saida também possui tamanho fixo, é a quantidade de classes no conjunto de dados\n",
    "D_saida = classes"
   ]
  },
  {
   "cell_type": "markdown",
   "metadata": {},
   "source": [
    "## Inicializar os pesos\n",
    "É importante inicializar os pesos aleatoriamente, caso contrario, os neurônios da rede não aprenderão diferentes características"
   ]
  },
  {
   "cell_type": "code",
   "execution_count": 4,
   "metadata": {},
   "outputs": [],
   "source": [
    "# Pesos entre a camada de entrada e camada oculta\n",
    "w1 = randn(D_entrada, D_oculta)\n",
    "\n",
    "# Pesos entre a camada oculta e camada de saida\n",
    "w2 = randn(D_oculta, D_saida)"
   ]
  },
  {
   "cell_type": "markdown",
   "metadata": {},
   "source": [
    "## Treinamento da rede"
   ]
  },
  {
   "cell_type": "markdown",
   "metadata": {},
   "source": [
    "### Definir os parametros de treinamento"
   ]
  },
  {
   "cell_type": "code",
   "execution_count": 5,
   "metadata": {},
   "outputs": [],
   "source": [
    "# Controla quantas iterações serão realizadas na RNA\n",
    "quantidade_iteracoes = 100\n",
    "\n",
    "# Taxa de Aprendizado (Learning Rate)\n",
    "taxa_aprendizado = 2e-4"
   ]
  },
  {
   "cell_type": "markdown",
   "metadata": {},
   "source": [
    "### Treinar a Rede\n",
    "Durante o treinamento (cada iteração) a rede neural executa dois passos, o feedfoward e o backpropagation.\n",
    "\n",
    "Durante o feedforward a rede neural gera uma hipótese de equação, definindo os pesos entre as camadas, que melhor se adequa aos dados.\n",
    "\n",
    "Logo em seguida, é calculado o erro (custo) desta hipótese.\n",
    "\n",
    "Após o calculo do erro, entra em cena o backpropagation que ajusta o peso dos deunônios entre as camadas.\n",
    "\n",
    "Perceba que a cada iteração o erro diminui.\n",
    "\n",
    "O interessante, é que mesmo com dados aleatórios, a rede neural consegue aprender"
   ]
  },
  {
   "cell_type": "code",
   "execution_count": 6,
   "metadata": {
    "scrolled": false
   },
   "outputs": [
    {
     "name": "stdout",
     "output_type": "stream",
     "text": [
      "Iteração\t Erro\n",
      "0 \t\t 61235.8121694\n",
      "1 \t\t 21413.0263181\n",
      "2 \t\t 18377.9978786\n",
      "3 \t\t 16703.6894912\n",
      "4 \t\t 15345.4411748\n",
      "5 \t\t 14241.2561589\n",
      "6 \t\t 13355.7314454\n",
      "7 \t\t 12570.6888948\n",
      "8 \t\t 11855.8589657\n",
      "9 \t\t 11232.6203252\n",
      "10 \t\t 10661.8772904\n",
      "11 \t\t 10098.792167\n",
      "12 \t\t 9586.49103472\n",
      "13 \t\t 9140.69166451\n",
      "14 \t\t 8761.82256029\n",
      "15 \t\t 8391.87511067\n",
      "16 \t\t 8037.31693974\n",
      "17 \t\t 7733.98037797\n",
      "18 \t\t 7449.19567106\n",
      "19 \t\t 7183.37203885\n",
      "20 \t\t 6921.13488858\n",
      "21 \t\t 6684.92280154\n",
      "22 \t\t 6465.29110667\n",
      "23 \t\t 6265.90498658\n",
      "24 \t\t 6080.00432082\n",
      "25 \t\t 5907.20145509\n",
      "26 \t\t 5742.48887607\n",
      "27 \t\t 5583.17990296\n",
      "28 \t\t 5432.06044095\n",
      "29 \t\t 5288.339027\n",
      "30 \t\t 5150.53900033\n",
      "31 \t\t 5021.17281188\n",
      "32 \t\t 4899.04417325\n",
      "33 \t\t 4781.22288398\n",
      "34 \t\t 4667.38908389\n",
      "35 \t\t 4557.48374494\n",
      "36 \t\t 4450.05898084\n",
      "37 \t\t 4342.97120973\n",
      "38 \t\t 4235.829008\n",
      "39 \t\t 4133.84201203\n",
      "40 \t\t 4036.38946325\n",
      "41 \t\t 3941.19037464\n",
      "42 \t\t 3847.95802957\n",
      "43 \t\t 3756.20449662\n",
      "44 \t\t 3665.90575065\n",
      "45 \t\t 3578.47265024\n",
      "46 \t\t 3493.68870293\n",
      "47 \t\t 3413.70050438\n",
      "48 \t\t 3335.6204352\n",
      "49 \t\t 3260.58630127\n",
      "50 \t\t 3190.78979586\n",
      "51 \t\t 3125.63120712\n",
      "52 \t\t 3063.22806497\n",
      "53 \t\t 3002.58336714\n",
      "54 \t\t 2942.93430742\n",
      "55 \t\t 2883.97024861\n",
      "56 \t\t 2827.03520516\n",
      "57 \t\t 2773.03664632\n",
      "58 \t\t 2720.91144792\n",
      "59 \t\t 2670.35691711\n",
      "60 \t\t 2622.09403738\n",
      "61 \t\t 2576.06177572\n",
      "62 \t\t 2531.63157978\n",
      "63 \t\t 2488.38669675\n",
      "64 \t\t 2446.03562945\n",
      "65 \t\t 2404.27793515\n",
      "66 \t\t 2362.75605726\n",
      "67 \t\t 2321.20695321\n",
      "68 \t\t 2280.08172157\n",
      "69 \t\t 2240.76077704\n",
      "70 \t\t 2203.603649\n",
      "71 \t\t 2167.95747728\n",
      "72 \t\t 2133.41746462\n",
      "73 \t\t 2099.77814756\n",
      "74 \t\t 2066.88950833\n",
      "75 \t\t 2034.64523909\n",
      "76 \t\t 2003.01319607\n",
      "77 \t\t 1972.04374703\n",
      "78 \t\t 1941.80619384\n",
      "79 \t\t 1912.29929674\n",
      "80 \t\t 1883.46691339\n",
      "81 \t\t 1855.27311542\n",
      "82 \t\t 1827.72696437\n",
      "83 \t\t 1800.85134526\n",
      "84 \t\t 1774.62465246\n",
      "85 \t\t 1748.96187241\n",
      "86 \t\t 1723.79471623\n",
      "87 \t\t 1699.17226085\n",
      "88 \t\t 1675.20991549\n",
      "89 \t\t 1651.93650804\n",
      "90 \t\t 1629.32068377\n",
      "91 \t\t 1607.35241536\n",
      "92 \t\t 1586.0053508\n",
      "93 \t\t 1565.21109267\n",
      "94 \t\t 1544.90456691\n",
      "95 \t\t 1525.05834652\n",
      "96 \t\t 1505.66813369\n",
      "97 \t\t 1486.71513516\n",
      "98 \t\t 1468.1527537\n",
      "99 \t\t 1449.92658966\n"
     ]
    }
   ],
   "source": [
    "print('Iteração\\t Erro')\n",
    "for t in range(quantidade_iteracoes):\n",
    "    \n",
    "    # FeedFoward\n",
    "    h = 1 / (1 + np.exp(-X_train.dot(w1))) # Função sigmoid logística\n",
    "    Y_Pred = h.dot(w2)\n",
    "    loss = np.square(Y_Pred-Y_train).sum() # Calculo do custo (norma L2)\n",
    "    print(t,'\\t\\t',loss)\n",
    "    \n",
    "    # Backpropagation\n",
    "    grad_y_pred = 2.0 * (Y_Pred-Y_train) # Derivada da L2\n",
    "    grad_w2 = h.T.dot(grad_y_pred)\n",
    "    grad_h = grad_y_pred.dot(w2.T)\n",
    "    grad_w1 = X_train.T.dot(grad_h*h*(1-h))\n",
    "    \n",
    "    # Atualiza os pesos\n",
    "    w1 -= taxa_aprendizado * grad_w1\n",
    "    w2 -= taxa_aprendizado * grad_w2"
   ]
  }
 ],
 "metadata": {
  "kernelspec": {
   "display_name": "Python 3",
   "language": "python",
   "name": "python3"
  },
  "language_info": {
   "codemirror_mode": {
    "name": "ipython",
    "version": 3
   },
   "file_extension": ".py",
   "mimetype": "text/x-python",
   "name": "python",
   "nbconvert_exporter": "python",
   "pygments_lexer": "ipython3",
   "version": "3.5.2"
  }
 },
 "nbformat": 4,
 "nbformat_minor": 2
}
